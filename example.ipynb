{
 "cells": [
  {
   "cell_type": "markdown",
   "metadata": {
    "collapsed": true
   },
   "source": [
    "# Usage example of SpatialEntropy\n",
    "\n",
    "Currently, there are two spatial entropy have been implemented:\n",
    " \n",
    "- Leibovici's entropy\n",
    "- Altieri's entropy\n"
   ]
  },
  {
   "cell_type": "markdown",
   "metadata": {},
   "source": [
    "First let's import the package, and generate some fake data"
   ]
  },
  {
   "cell_type": "code",
   "execution_count": null,
   "metadata": {},
   "outputs": [],
   "source": [
    "import numpy as np\n",
    "from spatialentropy import leibovici_entropy, altieri_entropy\n",
    "\n",
    "points = 100 * np.random.randn(10000, 2) + 1000\n",
    "types = np.random.choice(range(30), 10000)"
   ]
  },
  {
   "cell_type": "markdown",
   "metadata": {},
   "source": [
    "# Leibovici’s entropy\n",
    "\n",
    "A new variable $Z$ is introduced. $Z$ is defined as co-occurrences across the space.\n",
    "\n",
    "For example, we have $I$ types of cells. The combination of any two type of cells is $(x_i, x_{i'})$, the number of all combinations is denoted as $R$.\n",
    "\n",
    "If order is preserved, $R = P_I^2 = I^2$; If the combinations are unordered, $R = C_I^2= (I^2+I)/2$\n",
    "\n",
    "To a more general situation, consider the combination of $m$ types of cell, $R = P_I^m = I^m$ or $R=C_I^m$\n",
    "\n",
    "At a user defined distance $d$, only co-occurrences with the distance $d$ will take into consideration.\n",
    "\n",
    "$$H(Z|d) = \\sum_{r=1}^{I^m}{p(z_r|d)}log(\\frac{1}{p(z_r|d)})$$\n",
    "\n",
    "Reference:\n",
    "\n",
    "Leibovici, D. G., Claramunt, C., Le Guyader, D., & Brosset, D. (2014). Local and global spatio-temporal entropy indices based on distance-ratios and co-occurrences distributions. International Journal of Geographical Information Science, 28(5), 1061-1084. [link](https://www.tandfonline.com/doi/full/10.1080/13658816.2013.871284)"
   ]
  },
  {
   "cell_type": "code",
   "execution_count": null,
   "metadata": {},
   "outputs": [],
   "source": [
    "# here we set the distance d into 5\n",
    "e = leibovici_entropy(points, types, d=5)\n",
    "\n",
    "e.entropy # to get the entropy value\n",
    "e.adj_matrix # to get the adjacency matrix\n",
    "e.pairs_counts # to get the counts for each pair of co-occurrences"
   ]
  },
  {
   "cell_type": "markdown",
   "metadata": {},
   "source": [
    "# Altieri's entropy\n",
    "\n",
    "This introduce another new vairable $W$. $w_k$ represents a series of sample window, i.e. $[0,2][2,4][4,10],[10,...]$\n",
    "while $k=1,...,K$\n",
    "\n",
    "The purpose of this entropy is to decompose it into **Spatial mutual information** $MI(Z,W)$ and **Spatial residual entropy** $H(Z)_W$. \n",
    "\n",
    "$$H(Z)=\\sum_{r=1}^Rp(z_r)log(\\frac{1}{p(z_r)})=MI(Z,W)+H(Z)_W$$\n",
    "\n",
    "$$H(Z)_W = \\sum_{k=1}^Kp(w_k)H(Z|w_k)$$\n",
    "$$H(Z|w_k) = \\sum_{r=1}^Rp(z_r|w_k)log(\\frac{1}{p(z_r|w_k)})$$\n",
    "\n",
    "$$MI(Z,W)=\\sum_{k=1}^Kp(w_k)PI(Z|w_k)$$\n",
    "$$PI(Z|w_k)=\\sum_{r=1}^Rp(z_r|w_k)log(\\frac{p(z_r|w_k)}{p(z_r)})$$\n",
    "\n",
    "\n",
    "Reference:\n",
    "\n",
    "Altieri, L., Cocchi, D., & Roli, G. (2018). A new approach to spatial entropy measures. Environmental and ecological statistics, 25(1), 95-110. [link](https://link.springer.com/article/10.1007/s10651-017-0383-1)\n",
    "\n",
    "\n"
   ]
  },
  {
   "cell_type": "code",
   "execution_count": null,
   "metadata": {},
   "outputs": [],
   "source": [
    "from spatialentropy import altieri_entropy\n",
    "\n",
    "# if the cut is set as a number, it means how many times to cut evenly from [0,max]\n",
    "# there for it will generate cut + 1 intervals\n",
    "# if the cut is an array, it lets you define your own intervals\n",
    "# e = leibovici_entropy(points, types, cut=[0,4,10])\n",
    "e = leibovici_entropy(points, types, cut=2)\n",
    "\n",
    "e.entropy # to get the entropy value, e.entropy = e.mutual_info + e.residue\n",
    "e.mutual_info # the spatial mutual information\n",
    "e.residue # the spatial residue entropy\n",
    "e.adj_matrix # to get the adjacency matrix"
   ]
  }
 ],
 "metadata": {
  "kernelspec": {
   "display_name": "Python 3",
   "language": "python",
   "name": "python3"
  },
  "language_info": {
   "codemirror_mode": {
    "name": "ipython",
    "version": 3
   },
   "file_extension": ".py",
   "mimetype": "text/x-python",
   "name": "python",
   "nbconvert_exporter": "python",
   "pygments_lexer": "ipython3",
   "version": "3.7.4"
  },
  "pycharm": {
   "stem_cell": {
    "cell_type": "raw",
    "source": [],
    "metadata": {
     "collapsed": false
    }
   }
  }
 },
 "nbformat": 4,
 "nbformat_minor": 1
}